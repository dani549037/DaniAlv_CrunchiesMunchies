{
  "nbformat": 4,
  "nbformat_minor": 0,
  "metadata": {
    "colab": {
      "provenance": [],
      "authorship_tag": "ABX9TyMZGWqxd4FxyIDsBNnw6GZC",
      "include_colab_link": true
    },
    "kernelspec": {
      "name": "python3",
      "display_name": "Python 3"
    },
    "language_info": {
      "name": "python"
    }
  },
  "cells": [
    {
      "cell_type": "markdown",
      "metadata": {
        "id": "view-in-github",
        "colab_type": "text"
      },
      "source": [
        "<a href=\"https://colab.research.google.com/github/dani549037/DaniAlv_CrunchiesMunchies/blob/main/DaniAlv_CrunchieMunchie.ipynb\" target=\"_parent\"><img src=\"https://colab.research.google.com/assets/colab-badge.svg\" alt=\"Open In Colab\"/></a>"
      ]
    },
    {
      "cell_type": "code",
      "source": [
        "!git clone https://github.com/dani549037/DaniAlv_CrunchiesMunchies.git"
      ],
      "metadata": {
        "colab": {
          "base_uri": "https://localhost:8080/"
        },
        "id": "qF-RShh2RuTr",
        "outputId": "aa84f0d9-357d-4c87-adbb-c4dbd0d66bf3"
      },
      "execution_count": 1,
      "outputs": [
        {
          "output_type": "stream",
          "name": "stdout",
          "text": [
            "Cloning into 'DaniAlv_CrunchiesMunchies'...\n",
            "remote: Enumerating objects: 6, done.\u001b[K\n",
            "remote: Counting objects: 100% (6/6), done.\u001b[K\n",
            "remote: Compressing objects: 100% (5/5), done.\u001b[K\n",
            "remote: Total 6 (delta 0), reused 0 (delta 0), pack-reused 0\u001b[K\n",
            "Receiving objects: 100% (6/6), done.\n"
          ]
        }
      ]
    },
    {
      "cell_type": "code",
      "execution_count": 3,
      "metadata": {
        "colab": {
          "base_uri": "https://localhost:8080/"
        },
        "id": "oQV983gbNInD",
        "outputId": "8680125c-95ea-4e0d-9ee7-cac170bfce21"
      },
      "outputs": [
        {
          "output_type": "stream",
          "name": "stdout",
          "text": [
            "El promedio es:  106.88311688311688\n",
            "\n",
            "La media es: [ 50.  50.  50.  70.  70.  80.  90.  90.  90.  90.  90.  90.  90. 100.\n",
            " 100. 100. 100. 100. 100. 100. 100. 100. 100. 100. 100. 100. 100. 100.\n",
            " 100. 100. 110. 110. 110. 110. 110. 110. 110. 110. 110. 110. 110. 110.\n",
            " 110. 110. 110. 110. 110. 110. 110. 110. 110. 110. 110. 110. 110. 110.\n",
            " 110. 110. 110. 120. 120. 120. 120. 120. 120. 120. 120. 120. 120. 130.\n",
            " 130. 140. 140. 140. 150. 150. 160.]\n",
            "\n",
            "La mediana es:  110.0\n",
            "\n",
            "El perceptil requerido es:  4 , 70.0 calorias\n",
            "\n",
            "El porcentaje de cereales con mas de 60 calorias:  96.1038961038961 %\n",
            "\n",
            "La desviacion estandar de:  19.35718533390827\n"
          ]
        }
      ],
      "source": [
        "import numpy as np\n",
        "\n",
        "calorie_stats = np.genfromtxt(\"/content/DaniAlv_CrunchiesMunchies/cereal.csv\", delimiter=\",\")\n",
        "\n",
        "average_calories = np.array(calorie_stats)\n",
        "calorie_stats = np.sort(calorie_stats)\n",
        "print(\"El promedio es: \", np.mean(average_calories))\n",
        "print()\n",
        "print(\"La media es:\", calorie_stats)\n",
        "print()\n",
        "median_calories = np.median(calorie_stats)\n",
        "print(\"La mediana es: \", median_calories)\n",
        "print()\n",
        "i = 0\n",
        "nth_percentile = 0\n",
        "while nth_percentile < 60:\n",
        "  nth_percentile = np.percentile(calorie_stats, i)\n",
        "  i += 1\n",
        "\n",
        "more_calories = (len(calorie_stats[calorie_stats > 60])) / len(calorie_stats) * 100\n",
        "\n",
        "calorie_std = np.std(calorie_stats)\n",
        "print(\"El perceptil requerido es: \",i-1,\",\",nth_percentile,\"calorias\")\n",
        "print()\n",
        "print(\"El porcentaje de cereales con mas de 60 calorias: \",more_calories,\"%\")\n",
        "print()\n",
        "print(\"La desviacion estandar de: \",calorie_std)"
      ]
    },
    {
      "cell_type": "markdown",
      "source": [
        "**DANIEL ESTEBAN ALVAREZ CARO**\n",
        "000549037\n",
        "\n",
        "(daniel.alvarezc@upb.edu.co)"
      ],
      "metadata": {
        "id": "2-gp3frqNfLH"
      }
    }
  ]
}